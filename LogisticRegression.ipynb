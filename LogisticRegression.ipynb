{
 "cells": [
  {
   "cell_type": "markdown",
   "metadata": {},
   "source": [
    "# A simple practice of Logistic Regression\n",
    "* Build a classification model\n",
    "* Estimates an applicant's probability of admission based the scores from 2 exams\n",
    "* Use sklearn logistic regression\n",
    "    * Use F1-score\n",
    "    * Use Grid search Cross Validation\n",
    "    * Use threshold in hyper tuning"
   ]
  },
  {
   "cell_type": "code",
   "execution_count": 2,
   "metadata": {},
   "outputs": [],
   "source": [
    "import pandas as pd\n",
    "from matplotlib import pyplot as plt\n",
    "dir_data = '../../../../data/data_coursera_week2/ex2/ex2data1.txt'"
   ]
  },
  {
   "cell_type": "code",
   "execution_count": 3,
   "metadata": {},
   "outputs": [],
   "source": [
    "df = pd.read_csv(dir_data, names=['score1', 'score2', 'admitted'])"
   ]
  },
  {
   "cell_type": "code",
   "execution_count": 4,
   "metadata": {
    "scrolled": true
   },
   "outputs": [
    {
     "data": {
      "image/png": "[encoded data removed]",
      "text/plain": [
       "<Figure size 432x288 with 1 Axes>"
      ]
     },
     "metadata": {},
     "output_type": "display_data"
    }
   ],
   "source": [
    "def plotData(df):\n",
    "    x1 = df[df['admitted']==1]['score1']\n",
    "    x2 = df[df['admitted']==0]['score1']\n",
    "    y1 = df[df['admitted']==1]['score2']\n",
    "    y2 = df[df['admitted']==0]['score2']    \n",
    "    fig, ax = plt.subplots()\n",
    "    ax.plot(x1,y1,\"k+\",x2,y2,\"yo\")\n",
    "    ax.set_xlabel('Exam 1 score')\n",
    "    ax.set_ylabel('Exam 2 score')\n",
    "    return (fig, ax)\n",
    "\n",
    "fig, ax = plotData(df)"
   ]
  },
  {
   "cell_type": "markdown",
   "metadata": {},
   "source": [
    "# Use logistic regression model + F1-score\n",
    "## model parameters\n",
    "* penalty: l1 or l2 regularization constraints\n",
    "* tol: Tolerance for stopping criteria\n",
    "* C: Inverse of regularization strength\n",
    "* class_weight: dict or 'balanced'\n",
    "* random_state: int, the seed of random number generator to use when shuffling the data"
   ]
  },
  {
   "cell_type": "code",
   "execution_count": 5,
   "metadata": {},
   "outputs": [
    {
     "name": "stdout",
     "output_type": "stream",
     "text": [
      "F1-Score is 0.89655\n"
     ]
    }
   ],
   "source": [
    "import numpy as np\n",
    "from sklearn.model_selection import train_test_split\n",
    "from sklearn.linear_model import LogisticRegression\n",
    "from sklearn.metrics import f1_score\n",
    "\n",
    "\n",
    "X = df.loc[:, ['score1', 'score2']].values\n",
    "y = df.loc[:, ['admitted']].values.ravel()\n",
    "X_train, X_test, y_train, y_test = train_test_split(X, y, test_size=0.3, random_state=43)\n",
    "\n",
    "model = LogisticRegression(penalty='l2', tol=1e-4, C=1.0, class_weight='balanced')\n",
    "model.fit(X_train, y_train)\n",
    "y_pred = model.predict(X_test)\n",
    "print(\"F1-Score is %.5f\" %f1_score(y_test, y_pred, average='binary'))"
   ]
  },
  {
   "cell_type": "markdown",
   "metadata": {},
   "source": [
    "# Use logistic regression model + F1-Score + K-folder Cross Validation"
   ]
  },
  {
   "cell_type": "code",
   "execution_count": 7,
   "metadata": {},
   "outputs": [
    {
     "name": "stdout",
     "output_type": "stream",
     "text": [
      "Cross Validatin F1-Score is: 0.91878\n"
     ]
    },
    {
     "data": {
      "image/png": "[encoded data removed]",
      "text/plain": [
       "<Figure size 432x288 with 1 Axes>"
      ]
     },
     "metadata": {},
     "output_type": "display_data"
    }
   ],
   "source": [
    "from sklearn.model_selection import KFold\n",
    "kf = KFold(n_splits=10)\n",
    "\n",
    "scores, iters = [], []\n",
    "it = 0\n",
    "for train_index, test_index in kf.split(X):\n",
    "    X_train, X_test = X[train_index], X[test_index]\n",
    "    y_train, y_test = y[train_index], y[test_index]\n",
    "    model = LogisticRegression(penalty='l2', tol=1e-4, C=1.0, class_weight='balanced')\n",
    "    model.fit(X_train, y_train)\n",
    "    y_pred = model.predict(X_test)\n",
    "    score = f1_score(y_test, y_pred, average='binary')\n",
    "    scores.append(score)\n",
    "    iters.append(it)\n",
    "    it += 1\n",
    "\n",
    "fig, ax = plt.subplots()\n",
    "ax.plot(iters, scores, '-o')\n",
    "ax.set_xlabel(\"No.\")\n",
    "ax.set_ylabel(\"F1-score\")\n",
    "score_avg = np.mean(scores)\n",
    "print(\"Cross Validatin F1-Score is: %.5f\" %score_avg)"
   ]
  },
  {
   "cell_type": "markdown",
   "metadata": {},
   "source": [
    "# Use logistic regression model + F1-Score + K-folder Cross Validation + Grid Search\n",
    "\n",
    "* Defined own estimator for logistic regression\n",
    "* Use **F1-score** for evaluating result\n",
    "* Set **threshold** as a new tuning parameter"
   ]
  },
  {
   "cell_type": "code",
   "execution_count": 146,
   "metadata": {},
   "outputs": [
    {
     "name": "stdout",
     "output_type": "stream",
     "text": [
      "Best Score: 0.93667\n"
     ]
    }
   ],
   "source": [
    "from sklearn.linear_model import LogisticRegression\n",
    "\n",
    "class logisticRegressionWithF1Score(LogisticRegression):\n",
    "    def __init__(self, penalty='l2', dual=False, tol=1e-4, C=1.0,\n",
    "                 fit_intercept=True, intercept_scaling=1, class_weight=None,\n",
    "                 random_state=None, solver='liblinear', max_iter=100,\n",
    "                 multi_class='ovr', verbose=0, warm_start=False, n_jobs=1,\n",
    "                 threshold=0.5):\n",
    "        self.threshold = threshold\n",
    "        super().__init__(penalty='l2', dual=False, tol=1e-4, C=1.0,\n",
    "                 fit_intercept=True, intercept_scaling=1, class_weight=None,\n",
    "                 random_state=None, solver='liblinear', max_iter=100,\n",
    "                 multi_class='ovr', verbose=0, warm_start=False, n_jobs=1)\n",
    "    \n",
    "    def predict(self, X): \n",
    "        probs = self.predict_proba(X)[:,1]\n",
    "        probs[probs>=self.threshold] = 1\n",
    "        probs[probs<self.threshold] = 0\n",
    "        return probs\n",
    "            \n",
    "    def score(self, X, y, sample_weight=None):\n",
    "        from sklearn.metrics import f1_score\n",
    "        y_pred = self.predict(X)\n",
    "        score = f1_score(y, y_pred, average='binary', sample_weight=sample_weight)\n",
    "        return score\n",
    "\n",
    " \n",
    "from sklearn.grid_search import GridSearchCV\n",
    "tuned_params = {'tol':[1e-3, 1e-4, 1e-5, 1e-6], \n",
    "                'penalty':['l1', 'l2'],\n",
    "                'threshold': [0.05*x+0.2 for x in range(1,12)]}\n",
    "gs = GridSearchCV(logisticRegressionWithF1Score(), tuned_params)\n",
    "X = df.loc[:, ['score1', 'score2']].values\n",
    "y = df.loc[:, ['admitted']].values.ravel()\n",
    "gs.fit(X, y)\n",
    "print(\"Best Score: %.5f\" %gs.best_score_)\n",
    "        "
   ]
  },
  {
   "cell_type": "code",
   "execution_count": 147,
   "metadata": {},
   "outputs": [],
   "source": [
    "grid_scores = gs.grid_scores_\n",
    "iters, mean_scores, errs = [], [], []\n",
    "for i in range(len(grid_scores)):\n",
    "    iters.append(i)\n",
    "    mean_scores.append(grid_scores[i].cv_validation_scores.mean())\n",
    "    errs.append(grid_scores[i].cv_validation_scores.std())"
   ]
  },
  {
   "cell_type": "code",
   "execution_count": 154,
   "metadata": {},
   "outputs": [
    {
     "data": {
      "text/plain": [
       "Text(0,0.5,'F1-score')"
      ]
     },
     "execution_count": 154,
     "metadata": {},
     "output_type": "execute_result"
    },
    {
     "data": {
      "image/png": "[encoded data removed]",
      "text/plain": [
       "<Figure size 1080x288 with 1 Axes>"
      ]
     },
     "metadata": {},
     "output_type": "display_data"
    }
   ],
   "source": [
    "import matplotlib.pyplot as plt\n",
    "import numpy as np\n",
    "\n",
    "fig, ax = plt.subplots(figsize=(15,4))\n",
    "plt.errorbar(iters, mean_scores, errs, linestyle='None', marker='o')\n",
    "ax.set_title(\"Grid Search CV for Logistic Regression using F1-score as Evaluator and Setting Threshold as a Tuning Parameter\")\n",
    "ax.set_xlabel(\"No.\")\n",
    "ax.set_ylabel(\"F1-score\")"
   ]
  }
 ],
 "metadata": {
  "kernelspec": {
   "display_name": "Python py36",
   "language": "python",
   "name": "myenv"
  },
  "language_info": {
   "codemirror_mode": {
    "name": "ipython",
    "version": 3
   },
   "file_extension": ".py",
   "mimetype": "text/x-python",
   "name": "python",
   "nbconvert_exporter": "python",
   "pygments_lexer": "ipython3",
   "version": "3.6.5"
  }
 },
 "nbformat": 4,
 "nbformat_minor": 2
}
