{
 "cells": [
  {
   "cell_type": "markdown",
   "metadata": {},
   "source": [
    "# Read MNIST dataset\n",
    "The dataset could be downloaded from http://yann.lecun.com/exdb/mnist/\n",
    "\n",
    "## The raw data format:\n",
    "* image:  28 x 28 integer [0,1]\n",
    "* label: integer [0,9]"
   ]
  },
  {
   "cell_type": "code",
   "execution_count": 19,
   "metadata": {
    "scrolled": true
   },
   "outputs": [
    {
     "name": "stdout",
     "output_type": "stream",
     "text": [
      "label: 5;    shape of image: (28, 28)\n"
     ]
    },
    {
     "data": {
      "image/png": "[encoded data removed]",
      "text/plain": [
       "<Figure size 72x72 with 1 Axes>"
      ]
     },
     "metadata": {},
     "output_type": "display_data"
    }
   ],
   "source": [
    "import os\n",
    "import struct\n",
    "from matplotlib import pyplot as plt\n",
    "\n",
    "def read(dataset = \"training\", path = \".\"):\n",
    "    \"\"\"\n",
    "    type dataset: string\n",
    "    type path: string\n",
    "    rtype: tuple (int, 2d array)\n",
    "    \n",
    "    * Python function for importing the MNIST data set. \n",
    "    * It returns an iterator of 2-tuples\n",
    "    * The first element is the label\n",
    "    * The second element is a numpy.uint8 2D array of pixel data for the given image.\n",
    "    \"\"\"\n",
    "\n",
    "    if dataset is \"training\":\n",
    "        fname_img = os.path.join(path, 'train-images.idx3-ubyte')\n",
    "        fname_lbl = os.path.join(path, 'train-labels.idx1-ubyte')\n",
    "    elif dataset is \"testing\":\n",
    "        fname_img = os.path.join(path, 't10k-images.idx3-ubyte')\n",
    "        fname_lbl = os.path.join(path, 't10k-labels.idx1-ubyte')\n",
    "    else:\n",
    "        raise ValueError(\"dataset must be 'testing' or 'training'\")\n",
    "\n",
    "    # Load everything in some numpy arrays\n",
    "    with open(fname_lbl, 'rb') as flbl:\n",
    "        magic, num = struct.unpack(\">II\", flbl.read(8))\n",
    "        lbl = np.fromfile(flbl, dtype=np.int8)\n",
    "\n",
    "    with open(fname_img, 'rb') as fimg:\n",
    "        magic, num, rows, cols = struct.unpack(\">IIII\", fimg.read(16))\n",
    "        img = np.fromfile(fimg, dtype=np.uint8).reshape(len(lbl), rows, cols)\n",
    "\n",
    "    get_img = lambda idx: (lbl[idx], img[idx])\n",
    "\n",
    "    # Create an iterator which returns each image in turn\n",
    "    #for i in range(len(lbl)):\n",
    "    #    yield get_img(i)\n",
    "    return (lbl, img)\n",
    "\n",
    "def show(label, image):\n",
    "    \"\"\"\n",
    "    Render a given numpy.uint8 2D array of pixel data.\n",
    "    \"\"\"\n",
    "    from matplotlib import pyplot\n",
    "    import matplotlib as mpl\n",
    "    fig = pyplot.figure(figsize=(1,1))\n",
    "    ax = fig.add_subplot(1,1,1)\n",
    "    imgplot = ax.imshow(image, cmap=mpl.cm.Greys)\n",
    "    imgplot.set_interpolation('nearest')\n",
    "    ax.xaxis.set_ticks_position('top')\n",
    "    ax.yaxis.set_ticks_position('left')\n",
    "    ax.set_xlabel(\"Number: %d\" % label)\n",
    "    pyplot.show()\n",
    "    \n",
    "\n",
    "labels, images = read('training', './data')\n",
    "label, image = labels[0], images[0]\n",
    "print(\"label: %d;   \" % label, \"shape of image: (%s, %s)\" %image.shape)\n",
    "show(label, image)\n",
    "\n",
    "images = images.reshape(-1,28*28)\n",
    "one_hot_labels = np.zeros([labels.shape[0],10])\n",
    "for i in range(len(labels)):\n",
    "    one_hot_labels[i][labels[i]] = 1\n",
    "    \n",
    "\n",
    "test_labels, test_images = read('testing', './data')\n",
    "test_images = test_images.reshape(-1,28*28)\n",
    "test_one_hot_labels = np.zeros([test_labels.shape[0],10])\n",
    "for i in range(len(test_labels)):\n",
    "    test_one_hot_labels[i][test_labels[i]] = 1"
   ]
  },
  {
   "cell_type": "markdown",
   "metadata": {},
   "source": [
    "# Setup Tensorflow KMeans\n",
    "Use TensorFlow built-in KMeans algorithm: https://www.tensorflow.org/api_docs/python/tf/contrib/factorization/KMeans#training_graph\n",
    "\n",
    "\n",
    "\n",
    "Important Setups\n",
    "* **Input placeholder X**: Flatten 28 x 28 pixels to a vector\n",
    "* **label placeholder Y**: one hot encoder for label (this is not for Kmeans, but defined here for later usage)\n",
    "* **number of clusters**\n",
    "* **initial clusters**: \n",
    "    * *random*:    choose centers randomly from 'inputs'\n",
    "    * *kmean++*:    use kmean++ to choose centers from 'inputs'\n",
    "    * *kmc2*:    use the fast k-MC2 algorithm to choos centers from 'inputs'\n",
    "* **distance metric**: squared euclidean distance\n",
    "* **mini batch steps**: 2"
   ]
  },
  {
   "cell_type": "code",
   "execution_count": 20,
   "metadata": {},
   "outputs": [],
   "source": [
    "from __future__ import print_function\n",
    "import numpy as np\n",
    "import tensorflow as tf\n",
    "from tensorflow.contrib.factorization import KMeans\n",
    "\n",
    "n_features = 28*28\n",
    "n_classes = 10\n",
    "X = tf.placeholder(tf.float32, shape=[None, n_features])\n",
    "Y = tf.placeholder(tf.float32, shape=[None, n_classes])\n",
    "\n",
    "\n",
    "#%% create an object for generating KMeans clustering graph\n",
    "kmeans = KMeans(inputs=X, num_clusters=25, distance_metric='cosine', initial_clusters='kmeans_plus_plus',\n",
    "                use_mini_batch=True, mini_batch_steps_per_iteration=2)\n",
    "\n",
    "#%% build graph\n",
    "(all_scores, cluster_idx, scores, cluster_centers_initialized, init_op, training_op) = kmeans.training_graph()\n",
    "avg_distance = tf.reduce_mean(scores)\n",
    "\n",
    "cluster_idx = cluster_idx[0]"
   ]
  },
  {
   "cell_type": "markdown",
   "metadata": {},
   "source": [
    "# Tensorboard Graph\n",
    "Zoom in graph for details.  "
   ]
  },
  {
   "cell_type": "code",
   "execution_count": 18,
   "metadata": {},
   "outputs": [],
   "source": [
    "graph = 'D:/Documents/codes/python/python_classification_series/tensorboard_log'\n",
    "writer = tf.summary.FileWriter(graph, sess.graph)"
   ]
  },
  {
   "cell_type": "markdown",
   "metadata": {},
   "source": [
    "![pic](tensorboard_kmeans.png)"
   ]
  },
  {
   "cell_type": "markdown",
   "metadata": {},
   "source": [
    "# Use tensorFlow to do clustering\n",
    "\n",
    "Step 1:\n",
    "Initialization. \n",
    "Run tf.global_variables_initializer will initialize all global variables as well as placeholders.\n",
    "\n",
    "Step 2: \n",
    "training process"
   ]
  },
  {
   "cell_type": "code",
   "execution_count": 21,
   "metadata": {},
   "outputs": [
    {
     "name": "stdout",
     "output_type": "stream",
     "text": [
      "Step 1, Avg Distance: 0.317378\n",
      "Step 4, Avg Distance: 0.227988\n",
      "Step 8, Avg Distance: 0.219860\n",
      "Step 12, Avg Distance: 0.217612\n",
      "Step 16, Avg Distance: 0.216873\n",
      "Step 20, Avg Distance: 0.216542\n",
      "Step 24, Avg Distance: 0.216321\n",
      "Step 28, Avg Distance: 0.216155\n",
      "Step 32, Avg Distance: 0.216055\n",
      "Step 36, Avg Distance: 0.215992\n",
      "Step 40, Avg Distance: 0.215949\n",
      "Step 44, Avg Distance: 0.215916\n",
      "Step 48, Avg Distance: 0.215897\n"
     ]
    }
   ],
   "source": [
    "n_steps = 50\n",
    "sess = tf.Session()\n",
    "sess.run(tf.global_variables_initializer())\n",
    "sess.run(init_op, feed_dict={X:images})\n",
    "\n",
    "for i in range(1, n_steps + 1):\n",
    "    _, d, idx = sess.run([training_op, avg_distance, cluster_idx],\n",
    "                     feed_dict={X:images})\n",
    "    if i % 4 == 0 or i == 1:\n",
    "        print(\"Step %i, Avg Distance: %f\" % (i, d))"
   ]
  },
  {
   "cell_type": "code",
   "execution_count": 22,
   "metadata": {},
   "outputs": [
    {
     "name": "stdout",
     "output_type": "stream",
     "text": [
      "Test Accuracy: 0.74180\n"
     ]
    }
   ],
   "source": [
    "# Assign a label to each centroid\n",
    "# Count total number of labels per centroid, using the label of each training\n",
    "# sample to their closest centroid (given by 'idx')\n",
    "counts = np.zeros(shape=(25, 10))\n",
    "for i in range(len(idx)):\n",
    "    counts[idx[i]] += one_hot_labels[i]\n",
    "# Assign the most frequent label to the centroid\n",
    "labels_map = [np.argmax(c) for c in counts]\n",
    "labels_map = tf.convert_to_tensor(labels_map)\n",
    "\n",
    "# Evaluation ops\n",
    "# Lookup: centroid_id -> label\n",
    "cluster_label = tf.nn.embedding_lookup(labels_map, cluster_idx)\n",
    "\n",
    "# Compute accuracy\n",
    "correct_prediction = tf.equal(cluster_label, tf.cast(tf.argmax(Y, 1), tf.int32))\n",
    "accuracy_op = tf.reduce_mean(tf.cast(correct_prediction, tf.float32))\n",
    "\n",
    "# Test Model\n",
    "print(\"Test Accuracy: %.5f\" % sess.run(accuracy_op, feed_dict={X: test_images, Y: test_one_hot_labels}))\n"
   ]
  },
  {
   "cell_type": "code",
   "execution_count": 23,
   "metadata": {},
   "outputs": [],
   "source": [
    "sess.close()"
   ]
  },
  {
   "cell_type": "code",
   "execution_count": null,
   "metadata": {},
   "outputs": [],
   "source": []
  }
 ],
 "metadata": {
  "kernelspec": {
   "display_name": "Python tensorflow",
   "language": "python",
   "name": "tensorflow"
  },
  "language_info": {
   "codemirror_mode": {
    "name": "ipython",
    "version": 3
   },
   "file_extension": ".py",
   "mimetype": "text/x-python",
   "name": "python",
   "nbconvert_exporter": "python",
   "pygments_lexer": "ipython3",
   "version": "3.6.6"
  }
 },
 "nbformat": 4,
 "nbformat_minor": 2
}
