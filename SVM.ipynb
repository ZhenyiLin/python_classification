{
 "cells": [
  {
   "cell_type": "markdown",
   "metadata": {},
   "source": [
    "# A simple practice of Support Vector Machine\n",
    "* A SVM classification model\n",
    "* Data: coursera machine learning week 2\n",
    "* SVM model\n",
    "\n",
    "## The advantages of SVM\n",
    "* effective in high dimensional spaces\n",
    "* effective where number of dimensions is greater than the number of samples\n",
    "* memory efficient\n",
    "* versatile by applying different Kernel functions\n",
    "\n",
    "## The disadvantage of SVM\n",
    "* overfitting, avoid it in choosing Kernel functions and regularization term\n",
    "* no probability estimations"
   ]
  },
  {
   "cell_type": "code",
   "execution_count": 77,
   "metadata": {},
   "outputs": [],
   "source": [
    "import pandas as pd\n",
    "df = pd.read_csv('./ex2data1.txt', names=['score1', 'score2', 'admitted'])"
   ]
  },
  {
   "cell_type": "code",
   "execution_count": 78,
   "metadata": {},
   "outputs": [
    {
     "data": {
      "image/png": "[encoded data removed]",
      "text/plain": [
       "<Figure size 432x288 with 1 Axes>"
      ]
     },
     "metadata": {},
     "output_type": "display_data"
    }
   ],
   "source": [
    "def plotData(df):\n",
    "    from matplotlib import pyplot as plt\n",
    "    x1 = df[df['admitted']==1]['score1']\n",
    "    x2 = df[df['admitted']==0]['score1']\n",
    "    y1 = df[df['admitted']==1]['score2']\n",
    "    y2 = df[df['admitted']==0]['score2']    \n",
    "    fig, ax = plt.subplots()\n",
    "    ax.plot(x1,y1,\"k+\",x2,y2,\"yo\")\n",
    "    ax.set_xlabel('Exam 1 score')\n",
    "    ax.set_ylabel('Exam 2 score')\n",
    "    return (fig, ax)\n",
    "\n",
    "fig, ax = plotData(df)"
   ]
  },
  {
   "cell_type": "markdown",
   "metadata": {},
   "source": [
    "# Linear SVM model\n",
    "## Important parameters\n",
    "* **X**: an array [n_samples, n_features]\n",
    "* **y**: an array [n_samples]\n",
    "* **penalty**: \"l1\" or \"l2\"\n",
    "* **loss**: 'hinge', or 'squared_hinge'\n",
    "* **tol**:  0.0001\n",
    "* **C**: penalty of the misclassified error, a model with large C try to classifiy all the examples correctly\n",
    "* **class_weight**: 'balanced'\n",
    "\n",
    "## About the hinge loss function\n",
    "The hinge loss function is $h(x) = max(1-x, 0)$  \n",
    "The squared hinge loss function is $h^2(x)$  \n",
    "\n",
    "The hinge function is not differentiable at $x=1$, we define\n",
    "$h'(1) = c$, for $-1\\le c \\le 0$  \n",
    "The squared hinge function is differentiable at $x=1$, $h'(1) = 0$\n",
    "\n",
    "The overall cost function\n",
    "$$\n",
    "\\underset{\\theta}{\\mathrm{min}}\\;C\\sum_{i=1}^m \\left[ y^{(i)} cost_1(\\theta^T x^{(i)}) + (1-y^{(i)}) cost_0(\\theta^T x^{(i)}) \\right] + {1\\over 2} \\sum_{i=1}^n \\theta_j^2\n",
    "$$\n",
    "\n",
    "## About Feature Selection\n",
    "In sklearn, a random number generator to select feature when fitting the model. It is common to have slightly different result for the same input data. It that happened, try with a smaller <mark style=\"background-color:gray;color:white\">tol</mark> parameter\n",
    "\n",
    "## About the result\n",
    "Result shows that SVM does not perform good, it may because the data does not have a large margin"
   ]
  },
  {
   "cell_type": "code",
   "execution_count": 215,
   "metadata": {},
   "outputs": [
    {
     "name": "stdout",
     "output_type": "stream",
     "text": [
      "             precision    recall  f1-score   support\n",
      "\n",
      "          0       0.00      0.00      0.00        14\n",
      "          1       0.53      1.00      0.70        16\n",
      "\n",
      "avg / total       0.28      0.53      0.37        30\n",
      "\n"
     ]
    },
    {
     "name": "stderr",
     "output_type": "stream",
     "text": [
      "C:\\Users\\lzhen\\Anaconda3\\envs\\py36\\lib\\site-packages\\sklearn\\metrics\\classification.py:1135: UndefinedMetricWarning: Precision and F-score are ill-defined and being set to 0.0 in labels with no predicted samples.\n",
      "  'precision', 'predicted', average, warn_for)\n"
     ]
    }
   ],
   "source": [
    "from sklearn.model_selection import train_test_split\n",
    "from sklearn.metrics import f1_score, accuracy_score, classification_report\n",
    "from sklearn.svm import LinearSVC\n",
    "\n",
    "X = df.loc[:, ['score1', 'score2']].values\n",
    "y = df.loc[:, ['admitted']].values.ravel()\n",
    "X_train, X_test, y_train, y_test = train_test_split(X, y, test_size=0.3, random_state=1)\n",
    "\n",
    "model = LinearSVC(C=1.0, loss='hinge', class_weight=None, tol=1e-4)\n",
    "model.fit(X_train, y_train)\n",
    "y_pred = model.predict(X_test)\n",
    "#print(\"accuracy_score is %.5f\" %accuracy_score(y_test, y_pred))\n",
    "print(classification_report(y_test, y_pred))"
   ]
  },
  {
   "cell_type": "code",
   "execution_count": 214,
   "metadata": {},
   "outputs": [
    {
     "data": {
      "image/png": "[encoded data removed]",
      "text/plain": [
       "<Figure size 432x288 with 1 Axes>"
      ]
     },
     "metadata": {},
     "output_type": "display_data"
    }
   ],
   "source": [
    "import numpy as np\n",
    "def plotBoundary(model, X, y):\n",
    "    from matplotlib import pyplot as plt\n",
    "    x1 = X[y==1,0]\n",
    "    x2 = X[y==0,0]\n",
    "    y1 = X[y==1,1]\n",
    "    y2 = X[y==0,1]    \n",
    "    fig, ax = plt.subplots()\n",
    "    ax.plot(x1,y1,\"k+\",x2,y2,\"yo\")\n",
    "    ax.set_xlabel('Exam 1 score')\n",
    "    ax.set_ylabel('Exam 2 score')\n",
    "    \n",
    "    a = model.coef_[0]\n",
    "    b = model.intercept_[0]\n",
    "    xx = np.linspace(30,100)\n",
    "    yy = (-a[0]*xx - b)/a[1]\n",
    "    ax.plot(xx, yy, 'k-')\n",
    "\n",
    "plotBoundary(model, X_train, y_train)"
   ]
  },
  {
   "cell_type": "code",
   "execution_count": 58,
   "metadata": {},
   "outputs": [
    {
     "data": {
      "text/plain": [
       "array([0, 0, 0, 1, 1, 0, 1, 1, 1, 1, 0, 0, 1, 1, 0, 1, 1, 0, 1, 1, 0, 1,\n",
       "       0, 0, 1, 1, 1, 0, 0, 0, 1, 1, 0, 1, 0, 0, 0, 1, 0, 0, 1, 0, 1, 0,\n",
       "       0, 0, 1, 1, 1, 1, 1, 1, 1, 0, 0, 0, 1, 0, 1, 1, 1, 0, 0, 0, 0, 0,\n",
       "       1, 0, 1, 1, 0, 1, 1, 1, 1, 1, 1, 1, 0, 0, 1, 1, 1, 1, 1, 1, 0, 1,\n",
       "       1, 0, 1, 1, 0, 1, 1, 1, 1, 1, 1, 1], dtype=int64)"
      ]
     },
     "execution_count": 58,
     "metadata": {},
     "output_type": "execute_result"
    }
   ],
   "source": [
    "def plotPrediction(df):\n",
    "    from matplotlib import pyplot as plt\n",
    "    fig, ax = plotData(df) \n",
    "    "
   ]
  },
  {
   "cell_type": "code",
   "execution_count": 27,
   "metadata": {},
   "outputs": [
    {
     "data": {
      "image/png": "[encoded data removed]",
      "text/plain": [
       "<Figure size 432x288 with 1 Axes>"
      ]
     },
     "metadata": {},
     "output_type": "display_data"
    }
   ],
   "source": [
    "df2 = pd.read_csv('./ex2data2.txt', names=['score1', 'score2', 'admitted'])\n",
    "fig, ax = plotData(df2)"
   ]
  },
  {
   "cell_type": "code",
   "execution_count": null,
   "metadata": {},
   "outputs": [],
   "source": []
  }
 ],
 "metadata": {
  "kernelspec": {
   "display_name": "Python py36",
   "language": "python",
   "name": "myenv"
  },
  "language_info": {
   "codemirror_mode": {
    "name": "ipython",
    "version": 3
   },
   "file_extension": ".py",
   "mimetype": "text/x-python",
   "name": "python",
   "nbconvert_exporter": "python",
   "pygments_lexer": "ipython3",
   "version": "3.6.5"
  }
 },
 "nbformat": 4,
 "nbformat_minor": 2
}
